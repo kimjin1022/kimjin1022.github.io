{
 "cells": [
  {
   "cell_type": "code",
   "execution_count": 1,
   "id": "ead960bb",
   "metadata": {},
   "outputs": [],
   "source": [
    "import numpy as np\n",
    "from bs4 import BeautifulSoup\n",
    "import requests as rq"
   ]
  },
  {
   "cell_type": "code",
   "execution_count": 2,
   "id": "acec0c7a",
   "metadata": {},
   "outputs": [],
   "source": [
    "html = rq.get(\"https://www.mlb.com/stats/2022\")\n",
    "soup = BeautifulSoup(html.content, 'html.parser')"
   ]
  },
  {
   "cell_type": "code",
   "execution_count": 13,
   "id": "3600cfaa",
   "metadata": {},
   "outputs": [
    {
     "name": "stdout",
     "output_type": "stream",
     "text": [
      "1AaronA JudgeJudgeCF1‌‌‌NYY15757013317728062131111175163.311.425.6861.111\n",
      "2KyleK SchwarberSchwarberLF2‌‌‌PHI155577100126213469486200101.218.323.504.827\n",
      "3PeteP AlonsoAlonso1B3‌‌‌NYM16059795162270401316712851.271.352.518.870\n",
      "3MikeM TroutTroutCF3‌‌‌LAA1194388512428240805413910.283.369.630.999\n",
      "5AustinA RileyRiley3B5‌‌‌ATL1596159016839238935716820.273.349.528.877\n",
      "6YordanY AlvarezAlvarezDH6‌‌‌HOU1354709514429237977810611.306.406.6131.019\n",
      "7ChristianC WalkerWalker1B7‌‌‌AZ1605838414125236946913122.242.327.477.804\n",
      "8MookieM BettsBettsRF8‌‌‌LAD142572117154403358255104122.269.340.533.873\n",
      "8PaulP GoldschmidtGoldschmidt1B8‌‌‌STL151561106178410351157914170.317.404.578.982\n",
      "8RowdyR TellezTellez1B8‌‌‌MIL1535296711623035896212121.219.306.461.767\n",
      "11ShoheiS OhtaniOhtaniDH11‌‌‌LAA15758690160306349572161119.273.356.519.875\n",
      "11MattM OlsonOlson1B11‌‌‌ATL16261686148440341037517000.240.325.477.802\n",
      "13AnthonyA SantanderSantanderRF13‌‌‌BAL1525747813824033895512202.240.318.455.773\n",
      "13CoreyC SeagerSeagerSS13‌‌‌TEX1515939114524133835810330.245.317.455.772\n",
      "15VladimirV Guerrero Jr.Guerrero1B15‌‌‌TOR1606389017535032975811683.274.339.480.819\n",
      "15MannyM MachadoMachado3B15‌‌‌SD150578100172371321026313391.298.366.531.897\n",
      "15AnthonyA RizzoRizzo1B15‌‌‌NYY1304657710421132755810165.224.338.480.818\n",
      "18WillyW AdamesAdamesSS18‌‌‌MIL1395638313431031984916683.238.298.458.756\n",
      "18GiancarloG StantonStantonDH18‌‌‌NYY11039853847031785013700.211.297.462.759\n",
      "18EugenioE SuárezSuarez3B18‌‌‌SEA1505437612824231877319600.236.332.459.791\n",
      "21NolanN ArenadoArenado3B21‌‌‌STL1485577316342130103527253.293.358.533.891\n",
      "21RhysR HoskinsHoskins1B21‌‌‌PHI1565898114533230797216921.246.332.462.794\n",
      "21KyleK TuckerTuckerRF21‌‌‌HOU15054471140281301075995254.257.330.478.808\n",
      "24C.J.C CronCron1B24‌‌‌COL15057579148283291024316400.257.315.468.783\n",
      "24JoseJ RamírezRamirez3B24‌‌‌CLE15760190168445291266982207.280.355.514.869\n"
     ]
    }
   ],
   "source": [
    "for i in soup.find('tbody',class_=\"notranslate\").find_all('tr'):\n",
    "    print(i.text)"
   ]
  },
  {
   "cell_type": "code",
   "execution_count": null,
   "id": "ffe708a7",
   "metadata": {},
   "outputs": [],
   "source": []
  }
 ],
 "metadata": {
  "kernelspec": {
   "display_name": "Python 3 (ipykernel)",
   "language": "python",
   "name": "python3"
  },
  "language_info": {
   "codemirror_mode": {
    "name": "ipython",
    "version": 3
   },
   "file_extension": ".py",
   "mimetype": "text/x-python",
   "name": "python",
   "nbconvert_exporter": "python",
   "pygments_lexer": "ipython3",
   "version": "3.9.13"
  }
 },
 "nbformat": 4,
 "nbformat_minor": 5
}
